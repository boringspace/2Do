{
 "cells": [
  {
   "cell_type": "markdown",
   "id": "236eb1cb",
   "metadata": {},
   "source": [
    "(start)=\n",
    "\n",
    "# Start Here \n",
    "\n",
    "The structure will be simple.\n",
    "\n",
    "As title will be the CW (Calendarweek). Followed by the bulletpoints.\n",
    "\n",
    "## Example\n",
    "\n",
    "### KW 3\n",
    "\n",
    "- ToDo 1\n",
    "  - Details\n",
    "- ToDo2\n",
    "  - Details\n",
    "  - MoreDetails\n",
    "  - AndSoOn\n",
    "- ToDo3\n",
    "\n",
    "\\### After It is done\n",
    "\n",
    "- ToDo 1\n",
    "  - Details \n",
    "- ToDo2\n",
    "  - Details\n",
    "  - MoreDetails\n",
    "  - AndSoOn\n",
    "- ToDo3\n",
    "\n",
    "#### Solar System Exploration, 1950s – 1960s\n",
    "\n",
    "* [ ] Mercury\n",
    "* [x] Venus\n",
    "* [x] Earth (Orbit/Moon)\n",
    "- [x] Mars\n",
    "- [ ] Jupiter\n",
    "- [ ] Saturn\n",
    "- [ ] Uranus\n",
    "- [ ] Neptune\n",
    "- [ ] Comet Haley"
   ]
  }
 ],
 "metadata": {
  "jupytext": {
   "text_representation": {
    "extension": ".md",
    "format_name": "myst"
   }
  },
  "kernelspec": {
   "display_name": "Python 3",
   "language": "python",
   "name": "python3"
  },
  "language_info": {
   "codemirror_mode": {
    "name": "ipython",
    "version": 3
   },
   "file_extension": ".py",
   "mimetype": "text/x-python",
   "name": "python",
   "nbconvert_exporter": "python",
   "pygments_lexer": "ipython3",
   "version": "3.8.5"
  },
  "source_map": [
   10
  ]
 },
 "nbformat": 4,
 "nbformat_minor": 5
}